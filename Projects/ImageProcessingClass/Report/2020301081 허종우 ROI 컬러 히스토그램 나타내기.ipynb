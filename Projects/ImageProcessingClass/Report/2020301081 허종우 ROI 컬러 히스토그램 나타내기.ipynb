{
 "cells": [
  {
   "cell_type": "code",
   "execution_count": 44,
   "id": "6c733c50-5878-488c-9c26-b1da109fa397",
   "metadata": {},
   "outputs": [],
   "source": [
    "# 2020301081 허종우 ROI 컬러 히스토그램 그리기 과제\n",
    "import numpy as np\n",
    "import cv2\n",
    "\n",
    "def make_palette(rows):  # hue 채널 팔레트 행렬 생성 함수\n",
    "    hue = [round(i * 180 / rows) for i in range(rows)]  # hue 값 리스트 계산\n",
    "    hsv = [[[h, 255, 255]] for h in hue]  # (hue, 255, 255) 화소값 계산\n",
    "    hsv = np.array(hsv, np.uint8)  # 정수(uint8)형 행렬 변환\n",
    "    return cv2.cvtColor(hsv, cv2.COLOR_HSV2BGR)  # HSV 컬러 -> BGR 컬러\n",
    "\n",
    "def draw_hist_hue(hist, shape=(200, 256, 3)):  # 색상 히스토그램 그리기 함수\n",
    "    hsv_palette = make_palette(hist.shape[0])  # 색상 팔레트 생성\n",
    "    hist_img = np.full(shape, 255, np.uint8)\n",
    "    cv2.normalize(hist, hist, 0, shape[0], cv2.NORM_MINMAX)  # 영상 높이값으로 정규화\n",
    "\n",
    "    gap = hist_img.shape[1] / hist.shape[0]\n",
    "    for i, h in enumerate(hist.flatten()):\n",
    "        x, w = int(round(i * gap)), int(round(gap))\n",
    "        color = tuple(map(int, hsv_palette[i][0]))\n",
    "        cv2.rectangle(hist_img, (x, 0, w, int(h)), color, cv2.FILLED)\n",
    "    #return hist_img    \n",
    "    return cv2.flip(hist_img, 0)\n",
    "\n",
    "# 이미지 로드\n",
    "image = cv2.imread(\"C:/Users/82107/Desktop/source/images/hue_hist.jpg\", cv2.IMREAD_COLOR)\n",
    "if image is None:\n",
    "    raise Exception(\"영상파일 읽기 오류\")\n",
    "x, y, w, h = cv2.selectROI('cropped', image, False) # OpenCV 함수로 ROI 지정\n",
    "\n",
    "# 선택한 ROI가 있을 경우\n",
    "if w and h:\n",
    "    roi = image[y:y + h, x:x + w]\n",
    "    cv2.imshow('ROI', roi)  # ROI 출력\n",
    "    \n",
    "    hsv_img = cv2.cvtColor(roi, cv2.COLOR_BGR2HSV)                   # 선택한 ROI에 대해 RGB -> HSV 색상 변환\n",
    "    hue_hist = cv2.calcHist([hsv_img], [0], None, [18], [0, 180])    # Hue 채널의 히스토그램 계산\n",
    "    hue_hist_img = draw_hist_hue(hue_hist, (200, 360, 3))            # 히스토그램 그리기\n",
    "\n",
    "    # 결과 출력\n",
    "    cv2.imshow(\"ROI histogram\", hue_hist_img)\n",
    "    cv2.waitKey(0)\n",
    "    cv2.destroyAllWindows()"
   ]
  },
  {
   "cell_type": "code",
   "execution_count": null,
   "id": "ef828ac9-69cb-4988-a56a-44681a03cd44",
   "metadata": {},
   "outputs": [],
   "source": []
  }
 ],
 "metadata": {
  "kernelspec": {
   "display_name": "Python 3 (ipykernel)",
   "language": "python",
   "name": "python3"
  },
  "language_info": {
   "codemirror_mode": {
    "name": "ipython",
    "version": 3
   },
   "file_extension": ".py",
   "mimetype": "text/x-python",
   "name": "python",
   "nbconvert_exporter": "python",
   "pygments_lexer": "ipython3",
   "version": "3.11.9"
  }
 },
 "nbformat": 4,
 "nbformat_minor": 5
}

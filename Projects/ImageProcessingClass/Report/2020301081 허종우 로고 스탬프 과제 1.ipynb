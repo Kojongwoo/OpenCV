{
 "cells": [
  {
   "cell_type": "code",
   "execution_count": null,
   "id": "caf49125-d6f0-41e2-b04b-c3f8af618da4",
   "metadata": {},
   "outputs": [],
   "source": [
    "# 영상처리 과제3: 마우스로 로고 스탬프 찍기\n",
    "# 소프트웨어학과 2020301081 허종우\n",
    "# 배경 이미지에 마우스로 클릭하면 opencv logo 이미지가 클릭한 위치에 스탬프로 찍듯이 출력되도록 하시오.\n",
    "# 다른 위치에 클릭하면 로고 이미지가 이동되도록 하되, 로고 이미지 전체가 나오지 않는 위치에 클릭하면 출력하지 않도록 하시오."
   ]
  },
  {
   "cell_type": "code",
   "execution_count": 34,
   "id": "0816d9b5-9cd8-4ebe-a77d-cc1e0d22c30f",
   "metadata": {},
   "outputs": [],
   "source": [
    "import numpy as np\n",
    "import cv2\n",
    "\n",
    "# 배경 이미지와 로고 이미지 읽기\n",
    "test = cv2.imread(\"C:/Users/82107/Desktop/source/images/test.jpg\", cv2.IMREAD_COLOR) # 배경\n",
    "logo = cv2.imread(\"C:/Users/82107/Desktop/source/images/logo.jpg\", cv2.IMREAD_COLOR) # 로고\n",
    "\n",
    "if test is None or logo is None: raise Exception(\"영상파일 읽기 오류\")\n",
    "\n",
    "test_copy = test.copy() # 범위 외 클릭 시 기존 이미지 출력을 위한 이미지 복사\n",
    "\n",
    "# 로고 영상 이진화\n",
    "masks = cv2.threshold(logo, 220, 255, cv2.THRESH_BINARY)[1]\n",
    "masks = cv2.split(masks)\n",
    "\n",
    "# 전경 마스크와 배경 마스크 생성\n",
    "fg_pass_mask = cv2.bitwise_or(masks[0], masks[1])\n",
    "fg_pass_mask = cv2.bitwise_or(masks[2], fg_pass_mask)\n",
    "bg_pass_mask = cv2.bitwise_not(fg_pass_mask)\n",
    "\n",
    "(test_h, test_w) = test.shape[:2]\n",
    "(logo_h, logo_w) = logo.shape[:2]  # 로고 영상 크기\n",
    "\n",
    "def onMouse(event, x, y, flags, param):\n",
    "    if event == cv2.EVENT_LBUTTONDOWN:           # 마우스 왼쪽 버튼을 누르는 이벤트\n",
    "        global test, logo, fg_pass_mask, bg_pass_mask\n",
    "        \n",
    "        # 배경을 원본으로 초기화 (이전 로고 지우기)\n",
    "        test[:] = test_copy\n",
    "\n",
    "        x = x - logo_w // 2            # 마우스 클릭 부분이 로고 이미지의 중앙\n",
    "        y = y - logo_h // 2\n",
    "        \n",
    "        # 로고가 배경 안에 들어가는지 확인\n",
    "        if x >= 0 and x + logo_w <= test_w and y>= 0 and y + logo_h <= test_h:\n",
    "            # 클릭한 위치에 로고 이미지 복사\n",
    "            roi = test[y:y + logo_h, x:x + logo_w]                      # 관심 영역(roi) 지정\n",
    "            \n",
    "            foreground = cv2.bitwise_and(logo, logo, mask=fg_pass_mask) # 로고의 전경만 복사\n",
    "            background = cv2.bitwise_and(roi, roi, mask=bg_pass_mask)   # 원본 roi의 배경만 복사\n",
    "        \n",
    "            dst = cv2.add(background, foreground)                       # 배경과 전경을 합성\n",
    "            test[y:y + logo_h, x:x + logo_w] = dst                      # 합성된 이미지를 배경에 적용\n",
    "            \n",
    "            # 결과 이미지를 갱신하여 보여줌\n",
    "            cv2.imshow('dst', test)\n",
    "        else:                        # 로고가 배경안에 들어가지 않으면 \n",
    "            test[:] = test_copy      # 스탬프가 지워진 원본 배경으로 초기화\n",
    "            cv2.imshow('dst', test)\n",
    "\n",
    "# 초기 이미지 출력\n",
    "cv2.imshow('dst', test)\n",
    "\n",
    "# 마우스 콜백 함수 등록\n",
    "cv2.namedWindow('dst')\n",
    "cv2.setMouseCallback('dst', onMouse)\n",
    "\n",
    "cv2.waitKey(0)\n",
    "cv2.destroyAllWindows()"
   ]
  },
  {
   "cell_type": "code",
   "execution_count": null,
   "id": "70122e28-4dc2-49db-a495-39abf219c2ea",
   "metadata": {},
   "outputs": [],
   "source": []
  }
 ],
 "metadata": {
  "kernelspec": {
   "display_name": "Python 3 (ipykernel)",
   "language": "python",
   "name": "python3"
  },
  "language_info": {
   "codemirror_mode": {
    "name": "ipython",
    "version": 3
   },
   "file_extension": ".py",
   "mimetype": "text/x-python",
   "name": "python",
   "nbconvert_exporter": "python",
   "pygments_lexer": "ipython3",
   "version": "3.11.9"
  }
 },
 "nbformat": 4,
 "nbformat_minor": 5
}

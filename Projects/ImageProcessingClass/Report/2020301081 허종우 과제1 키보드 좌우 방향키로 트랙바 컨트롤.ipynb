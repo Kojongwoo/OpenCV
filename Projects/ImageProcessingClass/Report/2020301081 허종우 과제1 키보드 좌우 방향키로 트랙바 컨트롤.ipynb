{
 "cells": [
  {
   "cell_type": "code",
   "execution_count": 2,
   "id": "c40ac8e7-ff7b-4541-b749-bd73368fe288",
   "metadata": {},
   "outputs": [],
   "source": [
    "# 키보드 좌우 방향키로 트랙바 컨트롤\n",
    "import numpy as np\n",
    "import cv2\n",
    "\n",
    "def onChange(value):\n",
    "    global image, title\n",
    "    image[:] = value\n",
    "    cv2.imshow(title, image)\n",
    "\n",
    "switch_case = {\n",
    "    2424832: \"밝기 감소\",  # 왼쪽 화살표 키 입력\n",
    "    2555904: \"밝기 증가\" # 오른쪽 화살표 키 입력\n",
    "}\n",
    "\n",
    "image = np.zeros((300, 500), np.uint8)\n",
    "title = 'Trackbar Event'\n",
    "cv2.imshow(title, image)\n",
    "cv2.createTrackbar('Brightness', title, image[0][0], 255, onChange)\n",
    "\n",
    "while True:\n",
    "    key = cv2.waitKeyEx(100)\n",
    "    if key == 27:\n",
    "        break\n",
    "\n",
    "    if key in switch_case:\n",
    "        # 트랙바의 현재 위치를 리턴하는 함수\n",
    "        cur = cv2.getTrackbarPos('Brightness', title)\n",
    "\n",
    "        if switch_case[key] == \"밝기 감소\":\n",
    "            new = cur - 1\n",
    "            if (new <= 0):\n",
    "                new = 0\n",
    "        elif switch_case[key] == \"밝기 증가\":\n",
    "            new = cur + 1\n",
    "            if (new >= 255):\n",
    "                new = 255\n",
    "        cv2.setTrackbarPos('Brightness', title, new)\n",
    "        onChange(new)\n",
    "\n",
    "cv2.destroyAllWindows()"
   ]
  },
  {
   "cell_type": "code",
   "execution_count": null,
   "id": "1c738175-580d-4bef-b037-c100c67c5063",
   "metadata": {},
   "outputs": [],
   "source": []
  }
 ],
 "metadata": {
  "kernelspec": {
   "display_name": "Python 3 (ipykernel)",
   "language": "python",
   "name": "python3"
  },
  "language_info": {
   "codemirror_mode": {
    "name": "ipython",
    "version": 3
   },
   "file_extension": ".py",
   "mimetype": "text/x-python",
   "name": "python",
   "nbconvert_exporter": "python",
   "pygments_lexer": "ipython3",
   "version": "3.11.9"
  }
 },
 "nbformat": 4,
 "nbformat_minor": 5
}
